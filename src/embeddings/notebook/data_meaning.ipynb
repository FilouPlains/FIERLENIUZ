version https://git-lfs.github.com/spec/v1
oid sha256:272483ad8914dba2c519928041136b7ea6f541db5a604005be76abdce2378c00
size 10205617
