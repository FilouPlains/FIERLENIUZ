version https://git-lfs.github.com/spec/v1
oid sha256:fc3fefbb5ceeadfce333d74c65dab6768a46e1baf0f149d970e771a542f049d7
size 10205713
